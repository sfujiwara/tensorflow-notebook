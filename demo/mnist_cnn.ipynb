{
 "cells": [
  {
   "cell_type": "markdown",
   "metadata": {},
   "source": [
    "# Demo: TensorFlow を使った手書き文字認識"
   ]
  },
  {
   "cell_type": "markdown",
   "metadata": {},
   "source": [
    "## 問題設定"
   ]
  },
  {
   "cell_type": "markdown",
   "metadata": {},
   "source": [
    "手書きの数字の画像が与えられたとき，それが 1~9 のどれであるかを判別する．\n",
    "\n",
    "<img src=img/MNIST.png>"
   ]
  },
  {
   "cell_type": "markdown",
   "metadata": {},
   "source": [
    "## Convolutional Neural Network (畳み込みニューラルネットワーク)"
   ]
  },
  {
   "cell_type": "markdown",
   "metadata": {},
   "source": [
    "### 学習"
   ]
  },
  {
   "cell_type": "code",
   "execution_count": 1,
   "metadata": {
    "collapsed": false
   },
   "outputs": [
    {
     "name": "stdout",
     "output_type": "stream",
     "text": [
      "Extracting MNIST_data/train-images-idx3-ubyte.gz\n",
      "Extracting MNIST_data/train-labels-idx1-ubyte.gz\n",
      "Extracting MNIST_data/t10k-images-idx3-ubyte.gz\n",
      "Extracting MNIST_data/t10k-labels-idx1-ubyte.gz\n",
      "step 0, training accuracy 0.1\n",
      "step 100, training accuracy 0.8\n",
      "step 200, training accuracy 0.94\n",
      "step 300, training accuracy 0.88\n",
      "step 400, training accuracy 1\n",
      "step 500, training accuracy 0.92\n",
      "step 600, training accuracy 0.98\n",
      "step 700, training accuracy 0.94\n",
      "step 800, training accuracy 0.94\n",
      "step 900, training accuracy 0.98\n",
      "test accuracy 0.965\n"
     ]
    }
   ],
   "source": [
    "import tensorflow as tf\n",
    "from tensorflow.examples.tutorials.mnist import input_data\n",
    "\n",
    "# Load MNIST data set\n",
    "mnist = input_data.read_data_sets(\"MNIST_data/\", one_hot=True)\n",
    "\n",
    "# input_data モジュールは MNIST データを長さ 784 の配列として読み込むのでその形に合わせる\n",
    "x_ph = tf.placeholder(tf.float32, shape=[None, 784])\n",
    "# 畳み込みニューラルネットでは [batch_size x height x width x n_channels] の Tensor を入力とするので reshape する\n",
    "x_image_ph = tf.reshape(x_ph, [-1, 28, 28, 1])\n",
    "# 出力は [batch_size x n_classes]\n",
    "y_ph = tf.placeholder(tf.float32, shape=[None, 10])\n",
    "\n",
    "w_conv1 = tf.Variable(tf.truncated_normal([5, 5, 1, 32], stddev=0.1))\n",
    "b_conv1 = tf.Variable(tf.constant(0.1, shape=[32]))\n",
    "\n",
    "h_conv1 = tf.nn.relu(tf.nn.conv2d(x_image_ph, w_conv1, strides=[1, 1, 1, 1], padding=\"SAME\"))\n",
    "h_pool1 = tf.nn.max_pool(h_conv1, ksize=[1, 2, 2, 1], strides=[1, 2, 2, 1], padding=\"SAME\")\n",
    "\n",
    "w_conv2 = tf.Variable(tf.truncated_normal([5, 5, 32, 64], stddev=0.1))\n",
    "b_conv2 = tf.Variable(tf.constant(0.1, shape=[64]))\n",
    "\n",
    "h_conv2 = tf.nn.relu(tf.nn.conv2d(h_pool1, w_conv2, strides=[1, 1, 1, 1], padding=\"SAME\") + b_conv2)\n",
    "h_pool2 = tf.nn.max_pool(h_conv2, ksize=[1, 2, 2, 1], strides=[1, 2, 2, 1], padding=\"SAME\")\n",
    "\n",
    "# 2 つ目の pooling 層の出力を一般的な feed forward neural network に流すために平らにしている\n",
    "w_fc1 = tf.Variable(tf.truncated_normal([7 * 7 * 64, 1024], stddev=0.1))\n",
    "b_fc1 = tf.Variable(tf.constant(0.1, shape=[1024]))\n",
    "\n",
    "h_pool2_flat = tf.reshape(h_pool2, [-1, 7*7*64])\n",
    "h_fc1 = tf.nn.relu(tf.matmul(h_pool2_flat, w_fc1) + b_fc1)\n",
    "\n",
    "keep_prob = tf.placeholder(tf.float32)\n",
    "h_fc1_drop = tf.nn.dropout(h_fc1, keep_prob)\n",
    "\n",
    "w_fc2 = tf.Variable(tf.truncated_normal([1024, 10], stddev=0.1))\n",
    "b_fc2 = tf.Variable(tf.constant(0.1, shape=[10]))\n",
    "y_conv=tf.nn.softmax(tf.matmul(h_fc1_drop, w_fc2) + b_fc2)\n",
    "\n",
    "cross_entropy = tf.reduce_mean(-tf.reduce_sum(y_ph * tf.log(y_conv), reduction_indices=[1]))\n",
    "train_step = tf.train.AdamOptimizer(1e-4).minimize(cross_entropy)\n",
    "pred_cnn = tf.argmax(y_conv, 1)\n",
    "correct_prediction = tf.equal(tf.argmax(y_ph,1), pred_cnn)\n",
    "accuracy = tf.reduce_mean(tf.cast(correct_prediction, tf.float32))\n",
    "\n",
    "sess = tf.Session()\n",
    "sess.run(tf.initialize_all_variables())\n",
    "for i in range(1000):\n",
    "    batch = mnist.train.next_batch(50)\n",
    "    if i%100 == 0:\n",
    "        train_accuracy = accuracy.eval(feed_dict={x_ph: batch[0], y_ph: batch[1], keep_prob: 1.0}, session=sess)\n",
    "        print \"step %d, training accuracy %g\"%(i, train_accuracy)\n",
    "    train_step.run(feed_dict={x_ph: batch[0], y_ph: batch[1], keep_prob: 0.5}, session=sess)\n",
    "\n",
    "print \"test accuracy %g\"%accuracy.eval(feed_dict={x_ph: mnist.test.images, y_ph: mnist.test.labels, keep_prob: 1.0}, session=sess)"
   ]
  },
  {
   "cell_type": "markdown",
   "metadata": {},
   "source": [
    "### 予測"
   ]
  },
  {
   "cell_type": "code",
   "execution_count": 2,
   "metadata": {
    "collapsed": true
   },
   "outputs": [],
   "source": [
    "%matplotlib inline"
   ]
  },
  {
   "cell_type": "code",
   "execution_count": 3,
   "metadata": {
    "collapsed": false
   },
   "outputs": [
    {
     "data": {
      "image/png": "[encoded data removed]",
      "text/plain": [
       "<matplotlib.figure.Figure at 0x10b53fb90>"
      ]
     },
     "metadata": {},
     "output_type": "display_data"
    }
   ],
   "source": [
    "import numpy as np\n",
    "import matplotlib.pyplot as plt\n",
    "\n",
    "np.random.seed(1)\n",
    "\n",
    "n_row = 2\n",
    "n_col = 4\n",
    "\n",
    "pred = sess.run(pred_cnn, feed_dict={x_ph: mnist.test.images, keep_prob: 1})\n",
    "ind = np.random.choice(1000, n_row*n_col, replace=False)\n",
    "\n",
    "plt.figure(figsize=(13, 7))\n",
    "for i in range(n_row*n_col):\n",
    "    pos = int(str(n_row) + str(n_col) + str(i+1))\n",
    "    plt.subplot(pos)\n",
    "    plt.imshow(mnist.test.images[ind[i]].reshape([28, 28]), cmap=plt.cm.gray_r, interpolation='nearest')\n",
    "    plt.title(\"Predicted as {}\".format(pred[ind[i]]), fontsize=20)\n",
    "    plt.grid()\n",
    "    plt.tick_params(labelbottom='off', labelleft='off')\n",
    "plt.show()"
   ]
  },
  {
   "cell_type": "markdown",
   "metadata": {},
   "source": [
    "## Resources"
   ]
  },
  {
   "cell_type": "markdown",
   "metadata": {},
   "source": [
    "* [Deep MNIST for Experts](https://www.tensorflow.org/versions/master/tutorials/mnist/pros/index.html)"
   ]
  }
 ],
 "metadata": {
  "kernelspec": {
   "display_name": "Python 2",
   "language": "python",
   "name": "python2"
  },
  "language_info": {
   "codemirror_mode": {
    "name": "ipython",
    "version": 2
   },
   "file_extension": ".py",
   "mimetype": "text/x-python",
   "name": "python",
   "nbconvert_exporter": "python",
   "pygments_lexer": "ipython2",
   "version": "2.7.11"
  }
 },
 "nbformat": 4,
 "nbformat_minor": 0
}
