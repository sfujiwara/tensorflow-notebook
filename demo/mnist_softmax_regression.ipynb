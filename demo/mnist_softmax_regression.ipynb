{
 "cells": [
  {
   "cell_type": "markdown",
   "metadata": {
    "deletable": true,
    "editable": true
   },
   "source": [
    "# Demo: TensorFlow を使った手書き文字認識"
   ]
  },
  {
   "cell_type": "markdown",
   "metadata": {
    "deletable": true,
    "editable": true
   },
   "source": [
    "## 問題設定"
   ]
  },
  {
   "cell_type": "markdown",
   "metadata": {
    "deletable": true,
    "editable": true
   },
   "source": [
    "手書きの数字の画像が与えられたとき，それが 1~9 のどれであるかを判別する．\n",
    "\n",
    "<img src=img/MNIST.png>"
   ]
  },
  {
   "cell_type": "markdown",
   "metadata": {
    "deletable": true,
    "editable": true
   },
   "source": [
    "## Softmax Regression"
   ]
  },
  {
   "cell_type": "markdown",
   "metadata": {
    "deletable": true,
    "editable": true
   },
   "source": [
    "### 学習"
   ]
  },
  {
   "cell_type": "code",
   "execution_count": 2,
   "metadata": {
    "collapsed": false,
    "deletable": true,
    "editable": true
   },
   "outputs": [
    {
     "name": "stdout",
     "output_type": "stream",
     "text": [
      "Extracting MNIST_data/train-images-idx3-ubyte.gz\n",
      "Extracting MNIST_data/train-labels-idx1-ubyte.gz\n",
      "Extracting MNIST_data/t10k-images-idx3-ubyte.gz\n",
      "Extracting MNIST_data/t10k-labels-idx1-ubyte.gz\n",
      "Accuracy: 0.9168\n"
     ]
    }
   ],
   "source": [
    "import numpy as np\n",
    "import tensorflow as tf\n",
    "from tensorflow.examples.tutorials.mnist import input_data\n",
    "\n",
    "np.random.seed(0)\n",
    "tf.set_random_seed(0)\n",
    "\n",
    "# Load MNIST data set\n",
    "mnist = input_data.read_data_sets(\"MNIST_data/\", one_hot=True)\n",
    "\n",
    "# Create placeholder\n",
    "x_ph = tf.placeholder(\"float\", [None, 784])\n",
    "y_ph = tf.placeholder(\"float\", [None,10])\n",
    "\n",
    "logits = tf.contrib.layers.fully_connected(x_ph, 10, activation_fn=None)\n",
    "y = tf.nn.softmax(logits)\n",
    "\n",
    "cross_entropy = -tf.reduce_sum(y_ph * tf.log(y))\n",
    "pred_sr = tf.argmax(y, 1)\n",
    "correct_prediction = tf.equal(tf.argmax(y_ph, 1), pred_sr)\n",
    "accuracy = tf.reduce_mean(tf.cast(correct_prediction, \"float\"))\n",
    "\n",
    "# Create optimizer\n",
    "train_step = tf.train.GradientDescentOptimizer(0.005).minimize(cross_entropy)\n",
    "\n",
    "# Create variable initializer\n",
    "init = tf.initialize_all_variables()\n",
    "\n",
    "# Create session\n",
    "sess = tf.Session()\n",
    "sess.run(init)\n",
    "\n",
    "sess.run(init)\n",
    "for i in range(1000):\n",
    "    batch_xs, batch_ys = mnist.train.next_batch(100)\n",
    "    sess.run(train_step, feed_dict={x_ph: batch_xs, y_ph: batch_ys})\n",
    "print \"Accuracy:\", sess.run(accuracy, feed_dict={x_ph: mnist.test.images, y_ph: mnist.test.labels})"
   ]
  },
  {
   "cell_type": "markdown",
   "metadata": {
    "deletable": true,
    "editable": true
   },
   "source": [
    "### 予測"
   ]
  },
  {
   "cell_type": "code",
   "execution_count": 3,
   "metadata": {
    "collapsed": true,
    "deletable": true,
    "editable": true
   },
   "outputs": [],
   "source": [
    "%matplotlib inline"
   ]
  },
  {
   "cell_type": "code",
   "execution_count": 4,
   "metadata": {
    "collapsed": false,
    "deletable": true,
    "editable": true,
    "scrolled": true
   },
   "outputs": [
    {
     "data": {
      "image/png": "[encoded data removed]",
      "text/plain": [
       "<matplotlib.figure.Figure at 0x1114f7790>"
      ]
     },
     "metadata": {},
     "output_type": "display_data"
    }
   ],
   "source": [
    "import numpy as np\n",
    "import matplotlib.pyplot as plt\n",
    "\n",
    "np.random.seed(1)\n",
    "\n",
    "n_row = 2\n",
    "n_col = 4\n",
    "\n",
    "pred = sess.run(pred_sr, feed_dict={x_ph: mnist.test.images})\n",
    "ind = np.random.choice(1000, n_row*n_col, replace=False)\n",
    "\n",
    "plt.figure(figsize=(13, 7))\n",
    "for i in range(n_row*n_col):\n",
    "    pos = int(str(n_row) + str(n_col) + str(i+1))\n",
    "    plt.subplot(pos)\n",
    "    plt.imshow(mnist.test.images[ind[i]].reshape([28, 28]), cmap=plt.cm.gray_r, interpolation='nearest')\n",
    "    plt.title(\"Predicted as {}\".format(pred[ind[i]]), fontsize=20)\n",
    "    plt.grid()\n",
    "    plt.tick_params(labelbottom='off', labelleft='off')\n",
    "plt.show()"
   ]
  },
  {
   "cell_type": "markdown",
   "metadata": {
    "deletable": true,
    "editable": true
   },
   "source": [
    "## Data Handling"
   ]
  },
  {
   "cell_type": "markdown",
   "metadata": {
    "deletable": true,
    "editable": true
   },
   "source": [
    "MNIST データセットは画像を各セルの色の濃さで数値化している．\n",
    "\n",
    "<img src=img/MNIST-Matrix.png width=700px>\n",
    "\n",
    "さらに，一般的な機械学習手法で扱うために 28 x 28 の行列のデータを平らにして 1 x 784 のデータとして扱っている．"
   ]
  },
  {
   "cell_type": "code",
   "execution_count": null,
   "metadata": {
    "collapsed": false,
    "deletable": true,
    "editable": true
   },
   "outputs": [],
   "source": [
    "import pandas as pd\n",
    "\n",
    "mnist = input_data.read_data_sets(\"MNIST_data/\", one_hot=False)\n",
    "xs, ys = mnist.train.next_batch(10)\n",
    "df = pd.DataFrame(xs)\n",
    "df[\"label\"] = ys\n",
    "df"
   ]
  },
  {
   "cell_type": "markdown",
   "metadata": {
    "deletable": true,
    "editable": true
   },
   "source": [
    "この場合，セルが隣り合っているかどうかなどの情報を一部捨てている形になってしまっているが，畳み込みニューラルネットなどのもう少し高度な手法ではデータを 28 x 28 の形式のまま入力することができ，より高い精度の予測モデルが得られる．"
   ]
  },
  {
   "cell_type": "markdown",
   "metadata": {
    "deletable": true,
    "editable": true
   },
   "source": [
    "## Resources"
   ]
  },
  {
   "cell_type": "markdown",
   "metadata": {
    "deletable": true,
    "editable": true
   },
   "source": [
    "* [MNIST for ML Beginners](https://www.tensorflow.org/versions/master/tutorials/mnist/beginners/index.html)"
   ]
  }
 ],
 "metadata": {
  "kernelspec": {
   "display_name": "Python 2",
   "language": "python",
   "name": "python2"
  },
  "language_info": {
   "codemirror_mode": {
    "name": "ipython",
    "version": 2
   },
   "file_extension": ".py",
   "mimetype": "text/x-python",
   "name": "python",
   "nbconvert_exporter": "python",
   "pygments_lexer": "ipython2",
   "version": "2.7.11"
  }
 },
 "nbformat": 4,
 "nbformat_minor": 0
}
